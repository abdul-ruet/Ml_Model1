from sklearn.datasets import load_diabetes


diabetes = load_diabetes()
X = diabetes.data
y = diabetes.target


print("Shape of X:", X.shape)
print("Shape of y:", y.shape)


print("\nDataset Description:")
print(diabetes.DESCR)

from sklearn.linear_model import LinearRegression


model = LinearRegression()

model.fit(X, y)

y_pred = model.predict(X)


print("First 10 predicted values:\n", y_pred[:10])
from sklearn.metrics import mean_squared_error, r2_score


mse = mean_squared_error(y, y_pred)


r2 = r2_score(y, y_pred)

# Print the evaluation metrics
print(f"Mean Squared Error (MSE): {mse:.2f}")
print(f"R-squared (R2) Score: {r2:.2f}")
